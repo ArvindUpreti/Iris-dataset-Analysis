{
 "cells": [
  {
   "cell_type": "markdown",
   "id": "b7773972-bfa5-4eed-8b23-619881a2e15c",
   "metadata": {},
   "source": [
    "# Iris Dataset Visualization  "
   ]
  },
  {
   "cell_type": "markdown",
   "id": "4e7940c5-00ff-4ca7-abd2-4c83dda4a630",
   "metadata": {},
   "source": [
    "#### This Project involves Different type to analysis on Iris Flower and about its different spieces."
   ]
  },
  {
   "cell_type": "code",
   "execution_count": 2,
   "id": "79e92634-f2c9-43b1-bb22-270e140fbe37",
   "metadata": {},
   "outputs": [],
   "source": [
    "# importing all the necessary Libraries\n",
    "import numpy as np\n",
    "import pandas as pd\n",
    "import matplotlib.pyplot as plt\n",
    "import random as rd\n",
    "import warnings as w"
   ]
  },
  {
   "cell_type": "code",
   "execution_count": 48,
   "id": "c34c3909-7b61-4c2d-95ba-5f5d1bd2a57b",
   "metadata": {},
   "outputs": [],
   "source": [
    "# w.filterwarnings(\"ignore\")  \n",
    "# To ignore unnecessary warning by interpretator "
   ]
  },
  {
   "cell_type": "code",
   "execution_count": 15,
   "id": "6e5cb9dd-6c39-4df3-95ff-adf212802bf4",
   "metadata": {},
   "outputs": [
    {
     "name": "stdout",
     "output_type": "stream",
     "text": [
      "No. of Rows the dataset    :   150 \n",
      "No. of Columns the dataset :   5\n"
     ]
    }
   ],
   "source": [
    "# importing the data set and converting into dataframe\n",
    "df = pd.read_csv('iris.csv')\n",
    "print('No. of Rows the dataset    :  ' ,df.shape[0], '\\nNo. of Columns the dataset :  ', df.shape[1])"
   ]
  },
  {
   "cell_type": "markdown",
   "id": "86eb3bac-fc69-4ec2-959c-65762c5aa0a5",
   "metadata": {},
   "source": [
    "##### >> First 10 records of our dataset"
   ]
  },
  {
   "cell_type": "markdown",
   "id": "0c63f64d-fd93-4b24-b455-a1724113308f",
   "metadata": {},
   "source": [
    "##### Checking all the names of columns present in our dataset"
   ]
  },
  {
   "cell_type": "code",
   "execution_count": 28,
   "id": "84800609-29fe-45e2-b970-d18fcfba462e",
   "metadata": {},
   "outputs": [
    {
     "data": {
      "text/plain": [
       "Index(['sepal_length', 'sepal_width', 'petal_length', 'petal_width',\n",
       "       'species'],\n",
       "      dtype='object')"
      ]
     },
     "execution_count": 28,
     "metadata": {},
     "output_type": "execute_result"
    }
   ],
   "source": [
    "df.columns"
   ]
  },
  {
   "cell_type": "code",
   "execution_count": 18,
   "id": "2ffe8c1a-f687-4f42-87fa-086469db1bd2",
   "metadata": {},
   "outputs": [
    {
     "data": {
      "text/html": [
       "<div>\n",
       "<style scoped>\n",
       "    .dataframe tbody tr th:only-of-type {\n",
       "        vertical-align: middle;\n",
       "    }\n",
       "\n",
       "    .dataframe tbody tr th {\n",
       "        vertical-align: top;\n",
       "    }\n",
       "\n",
       "    .dataframe thead th {\n",
       "        text-align: right;\n",
       "    }\n",
       "</style>\n",
       "<table border=\"1\" class=\"dataframe\">\n",
       "  <thead>\n",
       "    <tr style=\"text-align: right;\">\n",
       "      <th></th>\n",
       "      <th>sepal_length</th>\n",
       "      <th>sepal_width</th>\n",
       "      <th>petal_length</th>\n",
       "      <th>petal_width</th>\n",
       "      <th>species</th>\n",
       "    </tr>\n",
       "  </thead>\n",
       "  <tbody>\n",
       "    <tr>\n",
       "      <th>0</th>\n",
       "      <td>5.1</td>\n",
       "      <td>3.5</td>\n",
       "      <td>1.4</td>\n",
       "      <td>0.2</td>\n",
       "      <td>setosa</td>\n",
       "    </tr>\n",
       "    <tr>\n",
       "      <th>1</th>\n",
       "      <td>4.9</td>\n",
       "      <td>3.0</td>\n",
       "      <td>1.4</td>\n",
       "      <td>0.2</td>\n",
       "      <td>setosa</td>\n",
       "    </tr>\n",
       "    <tr>\n",
       "      <th>2</th>\n",
       "      <td>4.7</td>\n",
       "      <td>3.2</td>\n",
       "      <td>1.3</td>\n",
       "      <td>0.2</td>\n",
       "      <td>setosa</td>\n",
       "    </tr>\n",
       "    <tr>\n",
       "      <th>3</th>\n",
       "      <td>4.6</td>\n",
       "      <td>3.1</td>\n",
       "      <td>1.5</td>\n",
       "      <td>0.2</td>\n",
       "      <td>setosa</td>\n",
       "    </tr>\n",
       "    <tr>\n",
       "      <th>4</th>\n",
       "      <td>5.0</td>\n",
       "      <td>3.6</td>\n",
       "      <td>1.4</td>\n",
       "      <td>0.2</td>\n",
       "      <td>setosa</td>\n",
       "    </tr>\n",
       "    <tr>\n",
       "      <th>5</th>\n",
       "      <td>5.4</td>\n",
       "      <td>3.9</td>\n",
       "      <td>1.7</td>\n",
       "      <td>0.4</td>\n",
       "      <td>setosa</td>\n",
       "    </tr>\n",
       "    <tr>\n",
       "      <th>6</th>\n",
       "      <td>4.6</td>\n",
       "      <td>3.4</td>\n",
       "      <td>1.4</td>\n",
       "      <td>0.3</td>\n",
       "      <td>setosa</td>\n",
       "    </tr>\n",
       "    <tr>\n",
       "      <th>7</th>\n",
       "      <td>5.0</td>\n",
       "      <td>3.4</td>\n",
       "      <td>1.5</td>\n",
       "      <td>0.2</td>\n",
       "      <td>setosa</td>\n",
       "    </tr>\n",
       "    <tr>\n",
       "      <th>8</th>\n",
       "      <td>4.4</td>\n",
       "      <td>2.9</td>\n",
       "      <td>1.4</td>\n",
       "      <td>0.2</td>\n",
       "      <td>setosa</td>\n",
       "    </tr>\n",
       "    <tr>\n",
       "      <th>9</th>\n",
       "      <td>4.9</td>\n",
       "      <td>3.1</td>\n",
       "      <td>1.5</td>\n",
       "      <td>0.1</td>\n",
       "      <td>setosa</td>\n",
       "    </tr>\n",
       "  </tbody>\n",
       "</table>\n",
       "</div>"
      ],
      "text/plain": [
       "   sepal_length  sepal_width  petal_length  petal_width species\n",
       "0           5.1          3.5           1.4          0.2  setosa\n",
       "1           4.9          3.0           1.4          0.2  setosa\n",
       "2           4.7          3.2           1.3          0.2  setosa\n",
       "3           4.6          3.1           1.5          0.2  setosa\n",
       "4           5.0          3.6           1.4          0.2  setosa\n",
       "5           5.4          3.9           1.7          0.4  setosa\n",
       "6           4.6          3.4           1.4          0.3  setosa\n",
       "7           5.0          3.4           1.5          0.2  setosa\n",
       "8           4.4          2.9           1.4          0.2  setosa\n",
       "9           4.9          3.1           1.5          0.1  setosa"
      ]
     },
     "execution_count": 18,
     "metadata": {},
     "output_type": "execute_result"
    }
   ],
   "source": [
    "df.head(10)  # Just to check first 10 records"
   ]
  },
  {
   "cell_type": "markdown",
   "id": "61e2e6dc-bd7a-4523-aa0b-498f04d7b940",
   "metadata": {},
   "source": [
    "##### 10 random samples from our dataset "
   ]
  },
  {
   "cell_type": "code",
   "execution_count": 21,
   "id": "3f54bd36-49d1-431d-af8b-9c55511fc982",
   "metadata": {},
   "outputs": [
    {
     "data": {
      "text/html": [
       "<div>\n",
       "<style scoped>\n",
       "    .dataframe tbody tr th:only-of-type {\n",
       "        vertical-align: middle;\n",
       "    }\n",
       "\n",
       "    .dataframe tbody tr th {\n",
       "        vertical-align: top;\n",
       "    }\n",
       "\n",
       "    .dataframe thead th {\n",
       "        text-align: right;\n",
       "    }\n",
       "</style>\n",
       "<table border=\"1\" class=\"dataframe\">\n",
       "  <thead>\n",
       "    <tr style=\"text-align: right;\">\n",
       "      <th></th>\n",
       "      <th>sepal_length</th>\n",
       "      <th>sepal_width</th>\n",
       "      <th>petal_length</th>\n",
       "      <th>petal_width</th>\n",
       "      <th>species</th>\n",
       "    </tr>\n",
       "  </thead>\n",
       "  <tbody>\n",
       "    <tr>\n",
       "      <th>24</th>\n",
       "      <td>4.8</td>\n",
       "      <td>3.4</td>\n",
       "      <td>1.9</td>\n",
       "      <td>0.2</td>\n",
       "      <td>setosa</td>\n",
       "    </tr>\n",
       "    <tr>\n",
       "      <th>96</th>\n",
       "      <td>5.7</td>\n",
       "      <td>2.9</td>\n",
       "      <td>4.2</td>\n",
       "      <td>1.3</td>\n",
       "      <td>versicolor</td>\n",
       "    </tr>\n",
       "    <tr>\n",
       "      <th>145</th>\n",
       "      <td>6.7</td>\n",
       "      <td>3.0</td>\n",
       "      <td>5.2</td>\n",
       "      <td>2.3</td>\n",
       "      <td>virginica</td>\n",
       "    </tr>\n",
       "    <tr>\n",
       "      <th>110</th>\n",
       "      <td>6.5</td>\n",
       "      <td>3.2</td>\n",
       "      <td>5.1</td>\n",
       "      <td>2.0</td>\n",
       "      <td>virginica</td>\n",
       "    </tr>\n",
       "    <tr>\n",
       "      <th>14</th>\n",
       "      <td>5.8</td>\n",
       "      <td>4.0</td>\n",
       "      <td>1.2</td>\n",
       "      <td>0.2</td>\n",
       "      <td>setosa</td>\n",
       "    </tr>\n",
       "    <tr>\n",
       "      <th>126</th>\n",
       "      <td>6.2</td>\n",
       "      <td>2.8</td>\n",
       "      <td>4.8</td>\n",
       "      <td>1.8</td>\n",
       "      <td>virginica</td>\n",
       "    </tr>\n",
       "    <tr>\n",
       "      <th>36</th>\n",
       "      <td>5.5</td>\n",
       "      <td>3.5</td>\n",
       "      <td>1.3</td>\n",
       "      <td>0.2</td>\n",
       "      <td>setosa</td>\n",
       "    </tr>\n",
       "    <tr>\n",
       "      <th>71</th>\n",
       "      <td>6.1</td>\n",
       "      <td>2.8</td>\n",
       "      <td>4.0</td>\n",
       "      <td>1.3</td>\n",
       "      <td>versicolor</td>\n",
       "    </tr>\n",
       "    <tr>\n",
       "      <th>45</th>\n",
       "      <td>4.8</td>\n",
       "      <td>3.0</td>\n",
       "      <td>1.4</td>\n",
       "      <td>0.3</td>\n",
       "      <td>setosa</td>\n",
       "    </tr>\n",
       "    <tr>\n",
       "      <th>28</th>\n",
       "      <td>5.2</td>\n",
       "      <td>3.4</td>\n",
       "      <td>1.4</td>\n",
       "      <td>0.2</td>\n",
       "      <td>setosa</td>\n",
       "    </tr>\n",
       "  </tbody>\n",
       "</table>\n",
       "</div>"
      ],
      "text/plain": [
       "     sepal_length  sepal_width  petal_length  petal_width     species\n",
       "24            4.8          3.4           1.9          0.2      setosa\n",
       "96            5.7          2.9           4.2          1.3  versicolor\n",
       "145           6.7          3.0           5.2          2.3   virginica\n",
       "110           6.5          3.2           5.1          2.0   virginica\n",
       "14            5.8          4.0           1.2          0.2      setosa\n",
       "126           6.2          2.8           4.8          1.8   virginica\n",
       "36            5.5          3.5           1.3          0.2      setosa\n",
       "71            6.1          2.8           4.0          1.3  versicolor\n",
       "45            4.8          3.0           1.4          0.3      setosa\n",
       "28            5.2          3.4           1.4          0.2      setosa"
      ]
     },
     "execution_count": 21,
     "metadata": {},
     "output_type": "execute_result"
    }
   ],
   "source": [
    "df.sample(10)"
   ]
  },
  {
   "cell_type": "markdown",
   "id": "b86a5ddb-2310-4700-8b45-7c0ee1590d12",
   "metadata": {},
   "source": [
    "##### Checking null values in all the columns"
   ]
  },
  {
   "cell_type": "code",
   "execution_count": 25,
   "id": "e72037fb-ee48-49a5-9004-9fb5951af8ce",
   "metadata": {},
   "outputs": [
    {
     "data": {
      "text/plain": [
       "sepal_length    0\n",
       "sepal_width     0\n",
       "petal_length    0\n",
       "petal_width     0\n",
       "species         0\n",
       "dtype: int64"
      ]
     },
     "execution_count": 25,
     "metadata": {},
     "output_type": "execute_result"
    }
   ],
   "source": [
    "df.isna().sum()     # This shows our data does not contains any kind of null values."
   ]
  },
  {
   "cell_type": "code",
   "execution_count": 38,
   "id": "6bc2d292-b58d-4c00-94d7-fe3f096f0f62",
   "metadata": {},
   "outputs": [
    {
     "name": "stdout",
     "output_type": "stream",
     "text": [
      "sepal_length ------ float64\n",
      "sepal_width ------ float64\n",
      "petal_length ------ float64\n",
      "petal_width ------ float64\n",
      "species ------ object\n"
     ]
    }
   ],
   "source": [
    "for x in df.columns:                    # Checking the datatype of all the columns its\n",
    "    print(x,'------',df[x].dtype)       # important to know that every columns should have correct dtype. "
   ]
  },
  {
   "cell_type": "markdown",
   "id": "40969020-ee8b-4fce-8123-5f74c4428ff4",
   "metadata": {},
   "source": [
    "##### After appling  above different steps, it has concluded that data is 100% clean and good to go for further analysis"
   ]
  },
  {
   "cell_type": "code",
   "execution_count": 14,
   "id": "9f3084c1-e912-429b-8f53-d8f5d755e59c",
   "metadata": {},
   "outputs": [
    {
     "data": {
      "text/plain": [
       "array(['setosa', 'versicolor', 'virginica'], dtype=object)"
      ]
     },
     "execution_count": 14,
     "metadata": {},
     "output_type": "execute_result"
    }
   ],
   "source": [
    "df['species'].unique()  # to see all the different or unique species"
   ]
  },
  {
   "cell_type": "markdown",
   "id": "5667b339-0577-49a1-9eef-dc8b6ff42833",
   "metadata": {},
   "source": [
    "##### Statistical Overview"
   ]
  },
  {
   "cell_type": "code",
   "execution_count": 46,
   "id": "7fbf3573-142b-420e-8c80-8ca6375cffab",
   "metadata": {},
   "outputs": [
    {
     "data": {
      "text/html": [
       "<div>\n",
       "<style scoped>\n",
       "    .dataframe tbody tr th:only-of-type {\n",
       "        vertical-align: middle;\n",
       "    }\n",
       "\n",
       "    .dataframe tbody tr th {\n",
       "        vertical-align: top;\n",
       "    }\n",
       "\n",
       "    .dataframe thead th {\n",
       "        text-align: right;\n",
       "    }\n",
       "</style>\n",
       "<table border=\"1\" class=\"dataframe\">\n",
       "  <thead>\n",
       "    <tr style=\"text-align: right;\">\n",
       "      <th></th>\n",
       "      <th>sepal_length</th>\n",
       "      <th>sepal_width</th>\n",
       "      <th>petal_length</th>\n",
       "      <th>petal_width</th>\n",
       "    </tr>\n",
       "  </thead>\n",
       "  <tbody>\n",
       "    <tr>\n",
       "      <th>count</th>\n",
       "      <td>150.000000</td>\n",
       "      <td>150.000000</td>\n",
       "      <td>150.000000</td>\n",
       "      <td>150.000000</td>\n",
       "    </tr>\n",
       "    <tr>\n",
       "      <th>mean</th>\n",
       "      <td>5.843333</td>\n",
       "      <td>3.054000</td>\n",
       "      <td>3.758667</td>\n",
       "      <td>1.198667</td>\n",
       "    </tr>\n",
       "    <tr>\n",
       "      <th>std</th>\n",
       "      <td>0.828066</td>\n",
       "      <td>0.433594</td>\n",
       "      <td>1.764420</td>\n",
       "      <td>0.763161</td>\n",
       "    </tr>\n",
       "    <tr>\n",
       "      <th>min</th>\n",
       "      <td>4.300000</td>\n",
       "      <td>2.000000</td>\n",
       "      <td>1.000000</td>\n",
       "      <td>0.100000</td>\n",
       "    </tr>\n",
       "    <tr>\n",
       "      <th>25%</th>\n",
       "      <td>5.100000</td>\n",
       "      <td>2.800000</td>\n",
       "      <td>1.600000</td>\n",
       "      <td>0.300000</td>\n",
       "    </tr>\n",
       "    <tr>\n",
       "      <th>50%</th>\n",
       "      <td>5.800000</td>\n",
       "      <td>3.000000</td>\n",
       "      <td>4.350000</td>\n",
       "      <td>1.300000</td>\n",
       "    </tr>\n",
       "    <tr>\n",
       "      <th>75%</th>\n",
       "      <td>6.400000</td>\n",
       "      <td>3.300000</td>\n",
       "      <td>5.100000</td>\n",
       "      <td>1.800000</td>\n",
       "    </tr>\n",
       "    <tr>\n",
       "      <th>max</th>\n",
       "      <td>7.900000</td>\n",
       "      <td>4.400000</td>\n",
       "      <td>6.900000</td>\n",
       "      <td>2.500000</td>\n",
       "    </tr>\n",
       "  </tbody>\n",
       "</table>\n",
       "</div>"
      ],
      "text/plain": [
       "       sepal_length  sepal_width  petal_length  petal_width\n",
       "count    150.000000   150.000000    150.000000   150.000000\n",
       "mean       5.843333     3.054000      3.758667     1.198667\n",
       "std        0.828066     0.433594      1.764420     0.763161\n",
       "min        4.300000     2.000000      1.000000     0.100000\n",
       "25%        5.100000     2.800000      1.600000     0.300000\n",
       "50%        5.800000     3.000000      4.350000     1.300000\n",
       "75%        6.400000     3.300000      5.100000     1.800000\n",
       "max        7.900000     4.400000      6.900000     2.500000"
      ]
     },
     "execution_count": 46,
     "metadata": {},
     "output_type": "execute_result"
    }
   ],
   "source": [
    "df.describe()   # This Method hepls us to check a quick statistical attributes of the dataset"
   ]
  },
  {
   "cell_type": "markdown",
   "id": "dc446f1a-8d78-45b4-9fe5-3b6ac1544e96",
   "metadata": {},
   "source": [
    "##### Finding some aggregates category wise of different spieces.  "
   ]
  },
  {
   "cell_type": "code",
   "execution_count": 49,
   "id": "ad2474b1-d201-4a52-9519-d0ab40464f7d",
   "metadata": {},
   "outputs": [
    {
     "name": "stdout",
     "output_type": "stream",
     "text": [
      "Maximum Values of sepal Length from different speices \n",
      " species\n",
      "setosa        5.8\n",
      "versicolor    7.0\n",
      "virginica     7.9\n",
      "Name: sepal_length, dtype: float64\n",
      "\n",
      "Minimum Values of sepal Length from different speices \n",
      " species\n",
      "setosa        4.3\n",
      "versicolor    4.9\n",
      "virginica     4.9\n",
      "Name: sepal_length, dtype: float64\n",
      "\n",
      "Mean Values of sepal Length from different speices \n",
      " species\n",
      "setosa        5.006\n",
      "versicolor    5.936\n",
      "virginica     6.588\n",
      "Name: sepal_length, dtype: float64\n"
     ]
    }
   ],
   "source": [
    "print('Maximum Values of sepal Length from different speices \\n',df.groupby('species')['sepal_length'].max())\n",
    "print('\\nMinimum Values of sepal Length from different speices \\n',df.groupby('species')['sepal_length'].min())\n",
    "print('\\nMean Values of sepal Length from different speices \\n',df.groupby('species')['sepal_length'].mean())   "
   ]
  },
  {
   "cell_type": "markdown",
   "id": "57411220-4162-4217-a0f8-d047338c6442",
   "metadata": {},
   "source": [
    "##### Checking outlier values in different columns"
   ]
  },
  {
   "cell_type": "code",
   "execution_count": 90,
   "id": "7dac7006-45cf-4a0b-ba8c-be84113633cf",
   "metadata": {},
   "outputs": [
    {
     "data": {
      "image/png": "[encoded data removed]",
      "text/plain": [
       "<Figure size 1000x1000 with 4 Axes>"
      ]
     },
     "metadata": {},
     "output_type": "display_data"
    }
   ],
   "source": [
    "import matplotlib.pyplot as plt\n",
    "plt.figure(figsize=(10,10))\n",
    "counter=1\n",
    "for x in df.columns:\n",
    "    if df[x].dtype == 'float64':\n",
    "        plt.subplot(2, 2, counter)\n",
    "        plt.title(x.upper())\n",
    "        plt.boxplot(df[x])\n",
    "        counter+=1\n",
    "plt.show()\n"
   ]
  },
  {
   "cell_type": "markdown",
   "id": "b9e0b794-44bb-4696-be66-5912f58d9d58",
   "metadata": {},
   "source": [
    "##### The Above Figure shows that Sepal_width columns contains some outlier values that needs to removed for better analysis"
   ]
  },
  {
   "cell_type": "code",
   "execution_count": 95,
   "id": "4a237b9b-5c8d-4098-9b14-d9776e8b4d1e",
   "metadata": {},
   "outputs": [],
   "source": [
    "df['sepal_width'].describe()     \n",
    "# By using this method we can easily identify minimum and maximum values according to IQR. \n",
    "# Any value outside this range will be treated has outlier of the data set.\n",
    "# So we got our min value i.e 2.00 and max value i.e 4.40\n",
    "mx_val = 4.40\n",
    "mn_val = 2.00"
   ]
  },
  {
   "cell_type": "code",
   "execution_count": 103,
   "id": "2d605a57-3ff3-4908-8671-1c777ea4be9b",
   "metadata": {},
   "outputs": [],
   "source": [
    "# Removing outlier from the column \n",
    "def outliers(x):\n",
    "    global mx_val\n",
    "    global mn_val\n",
    "    if x> mn_val and x<mx_val:\n",
    "        return x\n",
    "    else:\n",
    "        return 0\n",
    "df['sepal_width']= df['sepal_width'].apply(outliers)"
   ]
  },
  {
   "cell_type": "code",
   "execution_count": 104,
   "id": "e27ded51-b6cc-4766-a390-470c86cb9307",
   "metadata": {},
   "outputs": [
    {
     "data": {
      "text/html": [
       "<div>\n",
       "<style scoped>\n",
       "    .dataframe tbody tr th:only-of-type {\n",
       "        vertical-align: middle;\n",
       "    }\n",
       "\n",
       "    .dataframe tbody tr th {\n",
       "        vertical-align: top;\n",
       "    }\n",
       "\n",
       "    .dataframe thead th {\n",
       "        text-align: right;\n",
       "    }\n",
       "</style>\n",
       "<table border=\"1\" class=\"dataframe\">\n",
       "  <thead>\n",
       "    <tr style=\"text-align: right;\">\n",
       "      <th></th>\n",
       "      <th>sepal_length</th>\n",
       "      <th>sepal_width</th>\n",
       "      <th>petal_length</th>\n",
       "      <th>petal_width</th>\n",
       "      <th>species</th>\n",
       "    </tr>\n",
       "  </thead>\n",
       "  <tbody>\n",
       "    <tr>\n",
       "      <th>15</th>\n",
       "      <td>5.7</td>\n",
       "      <td>0.0</td>\n",
       "      <td>1.5</td>\n",
       "      <td>0.4</td>\n",
       "      <td>setosa</td>\n",
       "    </tr>\n",
       "    <tr>\n",
       "      <th>60</th>\n",
       "      <td>5.0</td>\n",
       "      <td>0.0</td>\n",
       "      <td>3.5</td>\n",
       "      <td>1.0</td>\n",
       "      <td>versicolor</td>\n",
       "    </tr>\n",
       "  </tbody>\n",
       "</table>\n",
       "</div>"
      ],
      "text/plain": [
       "    sepal_length  sepal_width  petal_length  petal_width     species\n",
       "15           5.7          0.0           1.5          0.4      setosa\n",
       "60           5.0          0.0           3.5          1.0  versicolor"
      ]
     },
     "execution_count": 104,
     "metadata": {},
     "output_type": "execute_result"
    }
   ],
   "source": [
    "df[df['sepal_width']==0]  # we have found that two values are being replaced by Zero"
   ]
  },
  {
   "cell_type": "code",
   "execution_count": 102,
   "id": "4d2675c0-072a-455c-8c16-09d08c8ea651",
   "metadata": {},
   "outputs": [
    {
     "data": {
      "text/plain": [
       "0      3.5\n",
       "1      3.0\n",
       "2      3.2\n",
       "3      3.1\n",
       "4      3.6\n",
       "      ... \n",
       "145    3.0\n",
       "146    2.5\n",
       "147    3.0\n",
       "148    3.4\n",
       "149    3.0\n",
       "Name: sepal_width, Length: 150, dtype: float64"
      ]
     },
     "execution_count": 102,
     "metadata": {},
     "output_type": "execute_result"
    }
   ],
   "source": [
    "df['sepal_width'].replace({0:df['sepal_width'].mean()})"
   ]
  },
  {
   "cell_type": "code",
   "execution_count": null,
   "id": "1bc14d5d-e0b0-4d20-830f-c49b542c232e",
   "metadata": {},
   "outputs": [],
   "source": []
  }
 ],
 "metadata": {
  "kernelspec": {
   "display_name": "Python 3 (ipykernel)",
   "language": "python",
   "name": "python3"
  },
  "language_info": {
   "codemirror_mode": {
    "name": "ipython",
    "version": 3
   },
   "file_extension": ".py",
   "mimetype": "text/x-python",
   "name": "python",
   "nbconvert_exporter": "python",
   "pygments_lexer": "ipython3",
   "version": "3.12.3"
  }
 },
 "nbformat": 4,
 "nbformat_minor": 5
}
